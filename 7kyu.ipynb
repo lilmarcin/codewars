{
 "cells": [
  {
   "cell_type": "code",
   "execution_count": 2,
   "metadata": {},
   "outputs": [
    {
     "data": {
      "text/plain": [
       "'9 -5'"
      ]
     },
     "execution_count": 2,
     "metadata": {},
     "output_type": "execute_result"
    }
   ],
   "source": [
    "\"\"\"Highest and Lowest\"\"\"\n",
    "def high_and_low(numbers):\n",
    "    numbers = numbers.split(\" \")\n",
    "    highest_number = numbers[0]\n",
    "    lowest_number = numbers[0]\n",
    "    for i in numbers:\n",
    "        if int(i) > int(highest_number):\n",
    "            highest_number = i\n",
    "        if int(i) < int(lowest_number):\n",
    "            lowest_number = i\n",
    "    return highest_number + \" \" + lowest_number\n",
    "\n",
    "#high_and_low(\"1 2 3 4 5\")  # return \"5 1\"\n",
    "#high_and_low(\"1 2 -3 4 5\") # return \"5 -3\"\n",
    "high_and_low(\"1 9 3 4 -5\") # return \"9 -5\"\n"
   ]
  },
  {
   "cell_type": "code",
   "execution_count": 4,
   "metadata": {},
   "outputs": [
    {
     "data": {
      "text/plain": [
       "False"
      ]
     },
     "execution_count": 4,
     "metadata": {},
     "output_type": "execute_result"
    }
   ],
   "source": [
    "\"\"\"String ends with?\"\"\"\n",
    "\n",
    "def solution(text, ending):\n",
    "    if(len(text) < len(ending)): \n",
    "        return False\n",
    "    for (x, y) in zip(text[::-1], ending[::-1]):\n",
    "        if(x != y):\n",
    "            return False\n",
    "    return True\n",
    "\n",
    "#solution('abc', 'bc') # returns true\n",
    "solution('abc', 'd') # returns false\n"
   ]
  },
  {
   "cell_type": "code",
   "execution_count": 6,
   "metadata": {},
   "outputs": [
    {
     "data": {
      "text/plain": [
       "'############5616'"
      ]
     },
     "execution_count": 6,
     "metadata": {},
     "output_type": "execute_result"
    }
   ],
   "source": [
    "\"\"\"Credit Card Mask\"\"\"\n",
    "\n",
    "def maskify(cc):\n",
    "    hashed = \"\"\n",
    "    if len(cc) > 4:\n",
    "        hashed += \"#\" * (len(cc) - 4) + cc[-4:]\n",
    "    else:\n",
    "        return cc\n",
    "    return hashed\n",
    "\n",
    "def maskify2(cc):\n",
    "    return \"#\" * (len(cc)  - 4) + cc[-4:]\n",
    "\n",
    "\n",
    "cc1=\"4556364607935616\"   #\"############5616\"\n",
    "cc2=\"64607935616\"        # \"#######5616\"\n",
    "cc3=\"1\"                  #  \"1\"\n",
    "cc4=\"\"                   #  \"\"\n",
    "\n",
    "maskify(cc1)"
   ]
  },
  {
   "cell_type": "code",
   "execution_count": 8,
   "metadata": {},
   "outputs": [
    {
     "data": {
      "text/plain": [
       "['Open', 'Open', 'Senior', 'Open', 'Open', 'Senior']"
      ]
     },
     "execution_count": 8,
     "metadata": {},
     "output_type": "execute_result"
    }
   ],
   "source": [
    "\"\"\"Categorize New Member\"\"\"\n",
    "\n",
    "def open_or_senior(data):\n",
    "    result = []\n",
    "    for person in data:\n",
    "        if person[0] >=55 and person[1]>7:\n",
    "            result.append(\"Senior\")\n",
    "        if person[0] <55 or person[1]<=7:\n",
    "            result.append(\"Open\")\n",
    "    return result\n",
    "\n",
    "input =  [[18, 20], [45, 2], [61, 12], [37, 6], [21, 21], [78, 9]]\n",
    "output = [\"Open\", \"Open\", \"Senior\", \"Open\", \"Open\", \"Senior\"]\n",
    "open_or_senior(input)"
   ]
  },
  {
   "cell_type": "code",
   "execution_count": 11,
   "metadata": {},
   "outputs": [
    {
     "data": {
      "text/plain": [
       "2"
      ]
     },
     "execution_count": 11,
     "metadata": {},
     "output_type": "execute_result"
    }
   ],
   "source": [
    "\"\"\"Beginner Series #3 Sum of Numbers\n",
    "(1, 0) --> 1 (1 + 0 = 1)\n",
    "(1, 2) --> 3 (1 + 2 = 3)\n",
    "(0, 1) --> 1 (0 + 1 = 1)\n",
    "(1, 1) --> 1 (1 since both are same)\n",
    "(-1, 0) --> -1 (-1 + 0 = -1)\n",
    "(-1, 2) --> 2 (-1 + 0 + 1 + 2 = 2)\n",
    "\"\"\"\n",
    "def get_sum(a,b):\n",
    "    res = 0\n",
    "    if a==b:\n",
    "        res = a\n",
    "    elif a <= b:\n",
    "        for i in range(a, b+1):\n",
    "            res +=i\n",
    "    elif a > b:\n",
    "        for i in range(b, a+1):\n",
    "            res +=i\n",
    "    return res\n",
    "\n",
    "\n",
    "get_sum(-1,2) "
   ]
  },
  {
   "cell_type": "code",
   "execution_count": 15,
   "metadata": {},
   "outputs": [
    {
     "data": {
      "text/plain": [
       "False"
      ]
     },
     "execution_count": 15,
     "metadata": {},
     "output_type": "execute_result"
    }
   ],
   "source": [
    "\"\"\"Regex validate PIN code\"\"\"\n",
    "\n",
    "def validate_pin(pin):\n",
    "    if len(pin) == 4 and pin.isdigit() or len(pin) == 6 and pin.isdigit():\n",
    "        return True\n",
    "    else:\n",
    "        return False\n",
    "\n",
    "\n",
    "#\"1234\"   -->  true\n",
    "#\"12345\"  -->  false\n",
    "#\"a234\"   -->  false\n",
    "validate_pin(\"a234\")"
   ]
  },
  {
   "cell_type": "code",
   "execution_count": 20,
   "metadata": {},
   "outputs": [
    {
     "data": {
      "text/plain": [
       "\"Let's fight again!\""
      ]
     },
     "execution_count": 20,
     "metadata": {},
     "output_type": "execute_result"
    }
   ],
   "source": [
    "\"\"\"Alphabet war\"\"\"\n",
    "def alphabet_war(fight):\n",
    "    left_side = {'w': 4, 'p': 3, 'b': 2, 's': 1}\n",
    "    right_side = {'m': 4, 'q': 3, 'd': 2, 'z': 1}\n",
    "    left_sum = 0\n",
    "    right_sum = 0\n",
    "    for letter in fight:\n",
    "        left_sum += left_side.get(letter,0)\n",
    "        right_sum += right_side.get(letter,0)\n",
    "    # print(left_sum)\n",
    "    # print(right_sum)\n",
    "    if left_sum > right_sum:\n",
    "        return \"Left side wins!\"\n",
    "    elif right_sum > left_sum:  \n",
    "        return \"Right side wins!\"\n",
    "    else:\n",
    "        return \"Let's fight again!\"\n",
    "\n",
    "\n",
    "\n",
    "\n",
    "\n",
    "# \"z\", \"Right side wins!\"\n",
    "# \"zdqmwpbs\", \"Let's fight again!\"\n",
    "# \"wq\", \"Left side wins!\"\n",
    "# \"zzzzs\", \"Right side wins!\"\n",
    "# \"wwwwww\", \"Left side wins!\"\n",
    "\n",
    "alphabet_war(\"zdqmwpbs\")"
   ]
  },
  {
   "cell_type": "code",
   "execution_count": 6,
   "metadata": {},
   "outputs": [
    {
     "data": {
      "text/plain": [
       "'world! hello'"
      ]
     },
     "execution_count": 6,
     "metadata": {},
     "output_type": "execute_result"
    }
   ],
   "source": [
    "\"\"\"Reversed Words\"\"\"\n",
    "\n",
    "def reverse_words(s):\n",
    "    words = s.split()\n",
    "    words.reverse()\n",
    "    return (' '.join(words))\n",
    "\n",
    "# \"hello world!\" --> \"world! hello\"\n",
    "# \"The greatest victory is that which requires no battle\" --> \"battle no requires which that is victory greatest The\"\n",
    "s = \"hello world!\"\n",
    "#s = \"The greatest victory is that which requires no battle\"\"\n",
    "reverse_words(s)"
   ]
  },
  {
   "cell_type": "code",
   "execution_count": 55,
   "metadata": {},
   "outputs": [
    {
     "data": {
      "text/plain": [
       "True"
      ]
     },
     "execution_count": 55,
     "metadata": {},
     "output_type": "execute_result"
    }
   ],
   "source": [
    "\"\"\"Cyclop numbers\"\"\"\n",
    "\n",
    "def cyclops (n):\n",
    "    binary = bin(n)[2:]\n",
    "    if len(binary) % 2 == 0 or binary.count('0') > 1 or binary[len(binary) // 2] != '0':\n",
    "        return False\n",
    "    return True\n",
    "\n",
    "\n",
    "#cyclops(1)  # False\n",
    "#cyclops(5)  # True\n",
    "#cyclops(3)  # False\n",
    "#cyclops(11) # False\n",
    "#cyclops(13) # False\n",
    "#cyclops(23) # False\n",
    "cyclops(27) # True"
   ]
  }
 ],
 "metadata": {
  "kernelspec": {
   "display_name": "Python 3",
   "language": "python",
   "name": "python3"
  },
  "language_info": {
   "codemirror_mode": {
    "name": "ipython",
    "version": 3
   },
   "file_extension": ".py",
   "mimetype": "text/x-python",
   "name": "python",
   "nbconvert_exporter": "python",
   "pygments_lexer": "ipython3",
   "version": "3.10.6"
  },
  "orig_nbformat": 4,
  "vscode": {
   "interpreter": {
    "hash": "4237f51546fe1c18318f1a5e5396e7d6e014f7e52796abf56e2e2caa3388e525"
   }
  }
 },
 "nbformat": 4,
 "nbformat_minor": 2
}
