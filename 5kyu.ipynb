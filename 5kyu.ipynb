{
 "cells": [
  {
   "cell_type": "code",
   "execution_count": 1,
   "metadata": {},
   "outputs": [
    {
     "name": "stdout",
     "output_type": "stream",
     "text": [
      "['O', 'tempora', 'o', 'mores', '!']\n"
     ]
    },
    {
     "data": {
      "text/plain": [
       "'Oay emporatay oay oresmay !'"
      ]
     },
     "execution_count": 1,
     "metadata": {},
     "output_type": "execute_result"
    }
   ],
   "source": [
    "\"\"\"Simple Pig Latin\"\"\"\n",
    "\n",
    "def pig_it(text):\n",
    "    new_text = \"\"\n",
    "    words = text.split()\n",
    "    print(words)\n",
    "    j = len(words)\n",
    "    for i in words:\n",
    "        if i not in '!.%&?':\n",
    "            if j > 1:\n",
    "                new_text += i[1:] + i[0] + \"ay \"\n",
    "                j -= 1\n",
    "            else:\n",
    "                new_text += i[1:] + i[0] + \"ay\"\n",
    "        else:\n",
    "            new_text += i\n",
    "    return new_text\n",
    "\n",
    "            \n",
    "\n",
    "a = 'Pig latin is cool'\n",
    "b = 'This is my string'\n",
    "c = \"O tempora o mores !\"\n",
    "pig_it(c)"
   ]
  },
  {
   "cell_type": "code",
   "execution_count": 3,
   "metadata": {},
   "outputs": [
    {
     "data": {
      "text/plain": [
       "'T'"
      ]
     },
     "execution_count": 3,
     "metadata": {},
     "output_type": "execute_result"
    }
   ],
   "source": [
    "\"\"\"First non-repeating character\"\"\"\n",
    "\n",
    "from collections import Counter\n",
    "\n",
    "def first_non_repeating_letter(string):\n",
    "    freq_low = Counter(string.lower())\n",
    "    freq = Counter(string)\n",
    "    print(freq_low)\n",
    "    print(freq)\n",
    "    print(\"most common\", freq_low.most_common())\n",
    "    if len(freq_low) < 1:\n",
    "        return \"\"\n",
    "    elif len(freq_low) < 2 and freq_low.most_common()[-1][1] > 1:\n",
    "        return \"\"\n",
    "    else:\n",
    "        for letter in string:\n",
    "            if freq_low[letter.lower()] == 1:\n",
    "                print(letter)\n",
    "                return letter\n",
    "        return \"\"\n",
    "\n",
    "def first_non_repeating_letter(string):\n",
    "    cnt = Counter(string.lower())\n",
    "    for letter in string:\n",
    "        if cnt[letter.lower()] == 1:\n",
    "            return letter\n",
    "    return ''\n",
    "    \n",
    "# 'sTreSS', 'T'\n",
    "# 'Go hang a salami, I\\'m a lasagna hog!', ','    \n",
    "x1 = 'abba'\n",
    "x2 = 'sTress'\n",
    "x3 = 'moonmen'\n",
    "x4 = 'Go hang a salami, I\\'m a lasagna hog!'\n",
    "first_non_repeating_letter(x2)"
   ]
  },
  {
   "cell_type": "code",
   "execution_count": 26,
   "metadata": {},
   "outputs": [
    {
     "data": {
      "text/plain": [
       "'00FF00'"
      ]
     },
     "execution_count": 26,
     "metadata": {},
     "output_type": "execute_result"
    }
   ],
   "source": [
    "\"\"\"RGB To Hex Conversion\"\"\"\n",
    "\n",
    "def rgb(r, g, b):\n",
    "    round = lambda x: min(255, max(x, 0))   \n",
    "    return (f\"{round(r):02X}{round(g):02X}{round(r):02X}\")\n",
    "\n",
    "\n",
    "# rgb(0, 0, 0), \"000000\", \"testing zero values\"\n",
    "# rgb(1, 2, 3), \"010203\", \"testing near zero values\"\n",
    "# rgb(148, 0, 211) # returns 9400D3\n",
    "# rgb(255, 255, 255), \"FFFFFF\", \"testing max values\"\n",
    "# rgb(254, 253, 252), \"FEFDFC\", \"testing near max values\"\n",
    "# rgb(-20, 275, 125), \"00FF7D\", \"testing out of range values\"\n",
    "\n",
    "rgb(-20, 275, 125)"
   ]
  },
  {
   "cell_type": "code",
   "execution_count": 37,
   "metadata": {},
   "outputs": [
    {
     "data": {
      "text/plain": [
       "'#CodewarsIsNice'"
      ]
     },
     "execution_count": 37,
     "metadata": {},
     "output_type": "execute_result"
    }
   ],
   "source": [
    "\"\"\"The Hashtag Generator\"\"\"\n",
    "\n",
    "def generate_hashtag(s):\n",
    "    new_text = \"#\"\n",
    "    words = s.split()\n",
    "    if len(words) < 1 or len(s) > 140:\n",
    "        return False\n",
    "    else:\n",
    "        for word in words:\n",
    "            new_text += word.title()\n",
    "        return new_text\n",
    "\n",
    "\n",
    "# 'Codewars     '       #Codewars\n",
    "# '      Codewars'      #Codewars\n",
    "# 'codewars is nice'    #CodewarsIsNice\n",
    "# 'c i n',              #CIN\n",
    "# 'codewars  is  nice'  #CodewarsIsNice\n",
    "# ''                    False\n",
    "\n",
    "\n",
    "generate_hashtag('           Codewars  is nice       ')\n"
   ]
  },
  {
   "cell_type": "code",
   "execution_count": 8,
   "metadata": {},
   "outputs": [
    {
     "data": {
      "text/plain": [
       "5.5"
      ]
     },
     "execution_count": 8,
     "metadata": {},
     "output_type": "execute_result"
    }
   ],
   "source": [
    "\"\"\"Mean without outliers\"\"\"\n",
    "\n",
    "import numpy as np\n",
    "\n",
    "def clean_mean(sample, cutoff):\n",
    "    output = []\n",
    "    temp_len = 1\n",
    "    cnt = 1\n",
    "    while (cnt != 0):\n",
    "        cnt = 0\n",
    "        std_dev = np.std(sample)\n",
    "        mean = np.mean(sample)\n",
    "        #print(std_dev)\n",
    "        #print(mean)\n",
    "        output.clear()\n",
    "        for i in sample:\n",
    "            if(abs(i - mean) < cutoff * std_dev):\n",
    "                output.append(i)\n",
    "            else:\n",
    "                sample.remove(i)\n",
    "                cnt += 1\n",
    "        #print(sample)\n",
    "        #print(output)\n",
    "        #print(\"licznik\", cnt)\n",
    "    return np.round(np.mean(output), 2)\n",
    "\n",
    "\n",
    "sample = [1, 2, 3, 4, 5, 6, 7, 8, 9, 10, 100]\n",
    "cutoff = 3\n",
    "# clean_mean(sample, cutoff) -> 5.5\n",
    "\n",
    "clean_mean(sample, cutoff)\n"
   ]
  },
  {
   "cell_type": "code",
   "execution_count": 13,
   "metadata": {},
   "outputs": [
    {
     "data": {
      "text/plain": [
       "'128.32.10.1'"
      ]
     },
     "execution_count": 13,
     "metadata": {},
     "output_type": "execute_result"
    }
   ],
   "source": [
    "\"\"\" int32 to IPv4 \"\"\"\n",
    "import ipaddress\n",
    "\n",
    "def int32_to_ip(int32):\n",
    "    return ipaddress.ip_address(int32).__str__()\n",
    "\n",
    "# 2149583361 ==> \"128.32.10.1\"\n",
    "# 32         ==> \"0.0.0.32\"\n",
    "# 0          ==> \"0.0.0.0\"\n",
    "\n",
    "int32_to_ip(2149583361)"
   ]
  },
  {
   "cell_type": "code",
   "execution_count": 42,
   "metadata": {},
   "outputs": [
    {
     "data": {
      "text/plain": [
       "7"
      ]
     },
     "execution_count": 42,
     "metadata": {},
     "output_type": "execute_result"
    }
   ],
   "source": [
    "\"\"\" Number of trailing zeros of N!\"\"\"\n",
    "def zeros(n):\n",
    "    result = 0\n",
    "    while n != 0:\n",
    "        result += n // 5\n",
    "        n = n // 5\n",
    "    return result\n",
    "\n",
    "# zeros(6) = 1\n",
    "# zeros(12) = 2\n",
    "# zeros(30) = 7\n",
    "zeros(30)"
   ]
  }
 ],
 "metadata": {
  "kernelspec": {
   "display_name": "Python 3",
   "language": "python",
   "name": "python3"
  },
  "language_info": {
   "codemirror_mode": {
    "name": "ipython",
    "version": 3
   },
   "file_extension": ".py",
   "mimetype": "text/x-python",
   "name": "python",
   "nbconvert_exporter": "python",
   "pygments_lexer": "ipython3",
   "version": "3.10.6"
  },
  "orig_nbformat": 4,
  "vscode": {
   "interpreter": {
    "hash": "4237f51546fe1c18318f1a5e5396e7d6e014f7e52796abf56e2e2caa3388e525"
   }
  }
 },
 "nbformat": 4,
 "nbformat_minor": 2
}
