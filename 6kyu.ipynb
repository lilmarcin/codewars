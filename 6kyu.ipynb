{
 "cells": [
  {
   "cell_type": "code",
   "execution_count": 3,
   "metadata": {},
   "outputs": [
    {
     "data": {
      "text/plain": [
       "5"
      ]
     },
     "execution_count": 3,
     "metadata": {},
     "output_type": "execute_result"
    }
   ],
   "source": [
    "\"\"\"Bit Counting\"\"\"\n",
    "\n",
    "def count_bits(n):\n",
    "    binary = bin(n)\n",
    "    return binary.count('1')\n",
    "\n",
    "#Example: The binary representation of 1234 is 10011010010, so the function should return 5 in this case\n",
    "\n",
    "count_bits(1234)"
   ]
  },
  {
   "cell_type": "code",
   "execution_count": 4,
   "metadata": {},
   "outputs": [
    {
     "data": {
      "text/plain": [
       "'((('"
      ]
     },
     "execution_count": 4,
     "metadata": {},
     "output_type": "execute_result"
    }
   ],
   "source": [
    "\"\"\"Duplicate Encoder\"\"\"\n",
    "\n",
    "from collections import Counter\n",
    "\n",
    "def duplicate_encode(word):\n",
    "    word = word.lower()\n",
    "    counting = Counter(word)\n",
    "    output = \"\"\n",
    "    for i in word:\n",
    "        if counting[i] == 1:\n",
    "            output += '('\n",
    "        else:\n",
    "            output += ')'\n",
    "    return output\n",
    "\n",
    "\n",
    "\n",
    "#\"din\"      =>  \"(((\"\n",
    "#\"recede\"   =>  \"()()()\"\n",
    "#\"Success\"  =>  \")())())\"\n",
    "#\"(( @\"     =>  \"))((\" \n",
    "\n",
    "duplicate_encode(\"din\")"
   ]
  },
  {
   "cell_type": "code",
   "execution_count": 6,
   "metadata": {},
   "outputs": [
    {
     "data": {
      "text/plain": [
       "51.0"
      ]
     },
     "execution_count": 6,
     "metadata": {},
     "output_type": "execute_result"
    }
   ],
   "source": [
    "\"\"\"Playing with digits\"\"\"\n",
    "\n",
    "def dig_pow(n, p):\n",
    "    num = str(n)\n",
    "    res = sum([int(num[i]) ** (p + i) for i in range(len(num))])\n",
    "    return res / n if (res % n) == 0 else -1\n",
    "\n",
    "\n",
    "#dig_pow(89, 1) should return 1 since 8¹ + 9² = 89 = 89 * 1\n",
    "#dig_pow(92, 1) should return -1 since there is no k such as 9¹ + 2² equals 92 * k\n",
    "#dig_pow(695, 2) should return 2 since 6² + 9³ + 5⁴= 1390 = 695 * 2\n",
    "#dig_pow(46288, 3) should return 51 since 4³ + 6⁴+ 2⁵ + 8⁶ + 8⁷ = 2360688 = 46288 * 51\n",
    "\n",
    "dig_pow(46288, 3)"
   ]
  },
  {
   "cell_type": "code",
   "execution_count": 8,
   "metadata": {},
   "outputs": [
    {
     "data": {
      "text/plain": [
       "4"
      ]
     },
     "execution_count": 8,
     "metadata": {},
     "output_type": "execute_result"
    }
   ],
   "source": [
    "\"\"\"Find the odd int\"\"\"\n",
    "\n",
    "\n",
    "def find_it(seq):\n",
    "    for item in seq:\n",
    "        if seq.count(item) % 2 != 0:\n",
    "            return item\n",
    "    return -1\n",
    "\n",
    "#[7] should return 7, because it occurs 1 time (which is odd).\n",
    "#[0] should return 0, because it occurs 1 time (which is odd).\n",
    "#[1,1,2] should return 2, because it occurs 1 time (which is odd).\n",
    "#[0,1,0,1,0] should return 0, because it occurs 3 times (which is odd).\n",
    "#[1,2,2,3,3,3,4,3,3,3,2,2,1] should return 4, because it appears 1 time (which is odd).\n",
    "\n",
    "find_it([1,2,2,3,3,3,4,3,3,3,2,2,1])"
   ]
  },
  {
   "cell_type": "code",
   "execution_count": 14,
   "metadata": {},
   "outputs": [
    {
     "data": {
      "text/plain": [
       "0"
      ]
     },
     "execution_count": 14,
     "metadata": {},
     "output_type": "execute_result"
    }
   ],
   "source": [
    "\"\"\"Equal Sides Of An Array\"\"\"\n",
    "\n",
    "def find_even_index(arr):\n",
    "    for i in range(len(arr)):\n",
    "        if sum(arr[:i]) == sum(arr[i+1:]):\n",
    "            return i\n",
    "    return -1\n",
    "\n",
    "\n",
    "arr1 = [1,2,3,4,3,2,1] #3\n",
    "arr2 = [1,100,50,-51,1,1] #1\n",
    "arr3 = [20,10,-80,10,10,15,35] #0\n",
    "find_even_index(arr3)\n"
   ]
  },
  {
   "cell_type": "code",
   "execution_count": 17,
   "metadata": {},
   "outputs": [
    {
     "data": {
      "text/plain": [
       "['ab', 'c_']"
      ]
     },
     "execution_count": 17,
     "metadata": {},
     "output_type": "execute_result"
    }
   ],
   "source": [
    "\"\"\"Split Strings\"\"\"\n",
    "\n",
    "def solution(s):\n",
    "    res = []\n",
    "    length = len(s)\n",
    "    if length % 2 == 0:\n",
    "        for text in range(0, length, 2):\n",
    "            res.append(s[text:text+2])\n",
    "        return res\n",
    "    else:\n",
    "        s = s + \"_\"\n",
    "        for text in range(0, length, 2):\n",
    "            res.append(s[text:text+2])\n",
    "        return res\n",
    "\n",
    "# 'abc' =>  ['ab', 'c_']\n",
    "# 'abcdef' => ['ab', 'cd', 'ef']\n",
    "\n",
    "solution('abc')"
   ]
  },
  {
   "cell_type": "code",
   "execution_count": 21,
   "metadata": {},
   "outputs": [
    {
     "data": {
      "text/plain": [
       "'volcano'"
      ]
     },
     "execution_count": 21,
     "metadata": {},
     "output_type": "execute_result"
    }
   ],
   "source": [
    "\"\"\"Highest Scoring Word\"\"\"\n",
    "\n",
    "def high(x):\n",
    "    words = x.split()\n",
    "    score = []\n",
    "    for word in words:\n",
    "        highest = 0\n",
    "        for letter in word:\n",
    "            highest += int(ord(letter))-96\n",
    "        score.append(highest)\n",
    "    return words[score.index(max(score))]\n",
    "\n",
    "# You need to return the highest scoring word as a string.\n",
    "# For example, the score of abad is 8 (1 + 2 + 1 + 4).\n",
    "# 'man i need a taxi up to ubud'  -> 'taxi'\n",
    "# 'what time are we climbing up the volcano' -> 'volcano'\n",
    "# 'aa b', 'aa'\n",
    "high('what time are we climbing up the volcano')"
   ]
  }
 ],
 "metadata": {
  "kernelspec": {
   "display_name": "Python 3",
   "language": "python",
   "name": "python3"
  },
  "language_info": {
   "codemirror_mode": {
    "name": "ipython",
    "version": 3
   },
   "file_extension": ".py",
   "mimetype": "text/x-python",
   "name": "python",
   "nbconvert_exporter": "python",
   "pygments_lexer": "ipython3",
   "version": "3.10.6"
  },
  "orig_nbformat": 4,
  "vscode": {
   "interpreter": {
    "hash": "4237f51546fe1c18318f1a5e5396e7d6e014f7e52796abf56e2e2caa3388e525"
   }
  }
 },
 "nbformat": 4,
 "nbformat_minor": 2
}
